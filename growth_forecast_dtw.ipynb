{
 "cells": [
  {
   "cell_type": "code",
   "execution_count": null,
   "id": "6d385965-d15d-4b7b-a486-61fe2a8895a5",
   "metadata": {},
   "outputs": [],
   "source": [
    "pip install dtaidistance"
   ]
  },
  {
   "cell_type": "code",
   "execution_count": null,
   "id": "8a3768f6-8db5-41e2-8c42-61c33197211d",
   "metadata": {},
   "outputs": [],
   "source": [
    "### 1. Import Necessary Libraries ###\n",
    "\n",
    "import pandas as pd\n",
    "import numpy as np\n",
    "from dtaidistance import dtw\n",
    "import matplotlib.pyplot as plt\n",
    "\n",
    "# Suppress scientific notation in NumPy\n",
    "np.set_printoptions(suppress=True)"
   ]
  },
  {
   "cell_type": "code",
   "execution_count": null,
   "id": "e007276f-d55c-4bec-a5da-9d53ab420c0b",
   "metadata": {},
   "outputs": [],
   "source": [
    "### 2. Load the GDP Data from a CSV File\n",
    "\n",
    "# Load the GDP data\n",
    "data = pd.read_csv('gdp_data2.csv')\n",
    "\n",
    "# Display the first few rows of the dataset\n",
    "print(data.head())"
   ]
  },
  {
   "cell_type": "code",
   "execution_count": null,
   "id": "6d1925f1-4d8c-49b4-b430-8312d1a18630",
   "metadata": {},
   "outputs": [],
   "source": [
    "### 3. Define the Base Period ad Compute DTW Distances ###\n",
    "\n",
    "# Define the target country and the base period\n",
    "target_country = 'Cambodia'\n",
    "base_period_length = 5\n",
    "forecast_horizon = 11\n",
    "\n",
    "# Extract GDP data for the target country\n",
    "target_data = data[data['Country'] == target_country].sort_values(by='Year')\n",
    "target_gdp = target_data['GDP'].values\n",
    "target_years = target_data['Year'].values\n",
    "\n",
    "# Define the base period [t-k+1, t]\n",
    "base_period = target_gdp[-base_period_length:]\n",
    "\n",
    "# Calculate DTW distances between the base period and all historical periods of other countries\n",
    "distances = []\n",
    "for country in data['Country'].unique():\n",
    "    if country != target_country:\n",
    "        country_gdp = data[data['Country'] == country].sort_values(by='Year')['GDP'].values\n",
    "        for i in range(len(country_gdp) - base_period_length):\n",
    "            period = country_gdp[i:i + base_period_length]\n",
    "            distance = dtw.distance(base_period, period)\n",
    "            distances.append((country, i, distance))"
   ]
  },
  {
   "cell_type": "code",
   "execution_count": null,
   "id": "89a587e1-63fe-4feb-be17-235b536e7691",
   "metadata": {},
   "outputs": [],
   "source": [
    "### 4. Identify Similar Periods in Other Countries' Histories\n",
    "\n",
    "# Sort distances and select the top 1% closest periods\n",
    "top_1_percent = int(len(distances) * 0.01)\n",
    "top_periods = sorted(distances, key=lambda x: x[2])[:top_1_percent]"
   ]
  },
  {
   "cell_type": "code",
   "execution_count": null,
   "id": "086f95b9-766e-4fb5-b966-9cd110c4753e",
   "metadata": {},
   "outputs": [],
   "source": [
    "### 5. Forecast Future Growth Based on the Most Similar Periods\n",
    "\n",
    "# Collect growth trajectories for the next y years\n",
    "growth_trajectories = []\n",
    "top_periods_filtered = []\n",
    "\n",
    "for country, start_index, distance in top_periods:\n",
    "    country_gdp = data [data['Country'] == country].sort_values(by='Year')['GDP'].values\n",
    "    end_index = start_index + base_period_length + forecast_horizon\n",
    "    if end_index < len(country_gdp):\n",
    "        growth_trajectory = country_gdp[start_index + base_period_length: end_index]\n",
    "        growth_trajectories.append(growth_trajectory)\n",
    "        top_periods_filtered.append((country, start_index, distance))\n",
    "\n",
    "# Ensure the growth_trajectories array has the correct shape\n",
    "growth_trajectories = np.array(growth_trajectories)\n",
    "\n",
    "### Calculate the forecasts\n",
    "forecasted_growth_median = np.median(growth_trajectories, axis=0)\n",
    "forecasted_growth_average = np.mean(growth_trajectories, axis=0)\n",
    "\n",
    "# Aggregate growth rates using weighted average (weights inversely proportional to DTW distances)\n",
    "weights = np.array([1/distance for _, _, distance in top_periods_filtered])\n",
    "weighted_growth_trajectories = growth_trajectories.T * weights\n",
    "forecasted_growth_weighted_avg = np.sum(weighted_growth_trajectories, axis=1) / np.sum(weights)\n",
    "\n",
    "forecasted_growth_55th_percentile = np.percentile(growth_trajectories, 55, axis=0)\n",
    "forecasted_growth_60th_percentile = np.percentile(growth_trajectories, 60, axis=0)"
   ]
  },
  {
   "cell_type": "code",
   "execution_count": null,
   "id": "95d6da4e-ddd3-4cf3-acad-cdff3a4c8fd8",
   "metadata": {},
   "outputs": [],
   "source": [
    "### 6. Calculate RMSE for Different Forecast Options\n",
    "\n",
    "# Function to calculate RMSE\n",
    "def rmse(predictions, targets):\n",
    "    return np.sqrt(((predictions - targets) ** 2).mean())\n",
    "\n",
    "# Calculate RMSE for both forecast options on historical data\n",
    "actual_growth = target_gdp[-forecast_horizon:]\n",
    "\n",
    "rmse_median = rmse(forecasted_growth_median, actual_growth)\n",
    "rmse_average = rmse(forecasted_growth_average, actual_growth)\n",
    "rmse_weighted_avg = rmse(forecasted_growth_weighted_avg, actual_growth)\n",
    "rmse_55th_percentile = rmse(forecasted_growth_55th_percentile, actual_growth)\n",
    "rmse_60th_percentile = rmse(forecasted_growth_60th_percentile, actual_growth)\n",
    "\n",
    "print(f\"RMSE (Median): {rmse_median}\")\n",
    "print(f\"RMSE (Average): {rmse_average}\")\n",
    "print(f\"RMSE (Weighted Average): {rmse_weighted_avg}\")\n",
    "print(f\"RMSE (55th Percentile): {rmse_55th_percentile}\")\n",
    "print(f\"RMSE (60th Percentile): {rmse_60th_percentile}\")"
   ]
  },
  {
   "cell_type": "code",
   "execution_count": null,
   "id": "9e4a55ce-8fd7-48a3-b420-36ad4f0a56d7",
   "metadata": {},
   "outputs": [],
   "source": [
    "### 7. Visualize the Results ###\n",
    "\n",
    "# Prepare the years for plotting\n",
    "last_year = target_years[-1]\n",
    "forecast_years = np.arange(last_year + 1, last_year + forecast_horizon + 1)\n",
    "\n",
    "# Plot the results\n",
    "plt.figure(figsize=(14, 8))\n",
    "plt.plot(forecast_years, forecasted_growth_median, label='Median Forecast', linestyle='--', color='green')\n",
    "plt.plot(forecast_years, forecasted_growth_average, label='Average Forecast', linestyle='--', color='orange')\n",
    "plt.plot(forecast_years, forecasted_growth_weighted_avg, label='Weighted Average Forecast', linestyle='--', color='pink')\n",
    "plt.plot(forecast_years, forecasted_growth_55th_percentile, label='55th Percentile Forecast', linestyle='--', color='cyan')\n",
    "plt.plot(forecast_years, forecasted_growth_60th_percentile, label='60th Percentile Forecast', linestyle='--', color='purple')\n",
    "\n",
    "plt.xlabel('Year')\n",
    "plt.ylabel('GDP Growth (%)')\n",
    "plt.title('Forecasted GDP Growth of Cambodia')\n",
    "plt.legend()\n",
    "plt.grid(True)\n",
    "plt.show()"
   ]
  }
 ],
 "metadata": {
  "kernelspec": {
   "display_name": "Python 3 (ipykernel)",
   "language": "python",
   "name": "python3"
  },
  "language_info": {
   "codemirror_mode": {
    "name": "ipython",
    "version": 3
   },
   "file_extension": ".py",
   "mimetype": "text/x-python",
   "name": "python",
   "nbconvert_exporter": "python",
   "pygments_lexer": "ipython3",
   "version": "3.11.7"
  }
 },
 "nbformat": 4,
 "nbformat_minor": 5
}
